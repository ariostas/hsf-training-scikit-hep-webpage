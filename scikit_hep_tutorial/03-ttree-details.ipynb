{
 "cells": [
  {
   "cell_type": "markdown",
   "id": "dd5ebd45-0175-4103-a662-d69f8741b83c",
   "metadata": {
    "editable": true,
    "slideshow": {
     "slide_type": ""
    },
    "tags": []
   },
   "source": [
    "# TTree?"
   ]
  },
  {
   "cell_type": "code",
   "execution_count": null,
   "id": "e99664e9-a4f1-4d65-811f-64bcfb063a7f",
   "metadata": {
    "editable": true,
    "slideshow": {
     "slide_type": ""
    },
    "tags": []
   },
   "outputs": [],
   "source": []
  }
 ],
 "metadata": {
  "kernelspec": {
   "display_name": "Python 3 (ipykernel)",
   "language": "python",
   "name": "python3"
  },
  "language_info": {
   "codemirror_mode": {
    "name": "ipython",
    "version": 3
   },
   "file_extension": ".py",
   "mimetype": "text/x-python",
   "name": "python",
   "nbconvert_exporter": "python",
   "pygments_lexer": "ipython3",
   "version": "3.13.5"
  }
 },
 "nbformat": 4,
 "nbformat_minor": 5
}
