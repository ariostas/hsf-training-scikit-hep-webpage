{
 "cells": [
  {
   "cell_type": "markdown",
   "id": "a303c10e-0352-4685-8cfe-31d8d11442d9",
   "metadata": {},
   "source": [
    "# Introduction: Python background\n",
    "\n",
    ":::{hint} Questions\n",
    " - \"How much Python do we need to know?\"\n",
    " - \"What is \"array-oriented\" or \"columnar\" processing?\"\n",
    " - \"What is a \"software ecosystem\"?\"\n",
    ":::\n",
    "\n"
   ]
  },
  {
   "cell_type": "code",
   "execution_count": null,
   "id": "b595c866-a61b-4280-9225-6019df27b811",
   "metadata": {},
   "outputs": [],
   "source": []
  }
 ],
 "metadata": {
  "kernelspec": {
   "display_name": "Python 3 (ipykernel)",
   "language": "python",
   "name": "python3"
  },
  "language_info": {
   "codemirror_mode": {
    "name": "ipython",
    "version": 3
   },
   "file_extension": ".py",
   "mimetype": "text/x-python",
   "name": "python",
   "nbconvert_exporter": "python",
   "pygments_lexer": "ipython3",
   "version": "3.13.5"
  }
 },
 "nbformat": 4,
 "nbformat_minor": 5
}
