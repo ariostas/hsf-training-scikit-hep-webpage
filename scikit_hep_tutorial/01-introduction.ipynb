{
 "cells": [
  {
   "cell_type": "markdown",
   "id": "a303c10e-0352-4685-8cfe-31d8d11442d9",
   "metadata": {},
   "source": [
    "# Introduction: Python background\n",
    "\n",
    ":::{hint} Questions\n",
    " - How much Python do we need to know?\n",
    " - What is \"array-oriented\" or \"columnar\" processing?\n",
    " - What is a \"software ecosystem\"?\n",
    ":::\n",
    "\n",
    ":::{seealso} Objectives\n",
    " - Get the background context to get started with the Uproot lessons.\n",
    ":::\n"
   ]
  },
  {
   "cell_type": "markdown",
   "id": "4b6d3731-b1b7-4589-b3d0-92a07eaa0469",
   "metadata": {},
   "source": [
    "## How much Python do we need to know?\n",
    "\n",
    "### Basic Python\n",
    "\n",
    "Most students start this module after a Python introduction or are already familiar with the *basics* of Python. For instance, you should be comfortable with the Python essentials such as assigning variables,"
   ]
  },
  {
   "cell_type": "code",
   "execution_count": 2,
   "id": "08412403-ec0c-4ce9-8f26-4c2c430c9769",
   "metadata": {},
   "outputs": [],
   "source": [
    "x = 5"
   ]
  },
  {
   "cell_type": "markdown",
   "id": "957e7605-47d2-4d6f-80da-526a69729404",
   "metadata": {},
   "source": [
    "if-statements,"
   ]
  },
  {
   "cell_type": "code",
   "execution_count": 3,
   "id": "df469453-f86e-4bd1-98a9-efc12788fbca",
   "metadata": {},
   "outputs": [
    {
     "name": "stdout",
     "output_type": "stream",
     "text": [
      "big\n"
     ]
    }
   ],
   "source": [
    "if x < 5:\n",
    "    print(\"small\")\n",
    "else:\n",
    "    print(\"big\")"
   ]
  },
  {
   "cell_type": "markdown",
   "id": "97960a72-d116-4b5c-a679-148e9b5584a9",
   "metadata": {},
   "source": [
    "and loops."
   ]
  },
  {
   "cell_type": "code",
   "execution_count": 4,
   "id": "ace6e87b-ad1c-46db-8e85-d7a93c6d3c7d",
   "metadata": {},
   "outputs": [
    {
     "name": "stdout",
     "output_type": "stream",
     "text": [
      "0\n",
      "1\n",
      "2\n",
      "3\n",
      "4\n"
     ]
    }
   ],
   "source": [
    "for i in range(x):\n",
    "    print(i)"
   ]
  },
  {
   "cell_type": "markdown",
   "id": "88491cf8-5e80-4ff7-a397-7e45fc798fd4",
   "metadata": {},
   "source": [
    "Your data analysis will likely be full of statements like these, though the kinds of operations we'll be focusing on in this module have a form more like\n",
    "\n",
    "```python\n",
    "import compiled_library\n",
    "\n",
    "compiled_library.do_computationally_expensive_thing(big_array)\n",
    "```\n",
    "\n",
    "The trick is for the Python-side code to be expressive enough and the compiled code to be general enough that you don't need a new `compiled_library` for each thing you want to do. The libraries presented in this module are designed with interfaces that let you express what you want to do in Python and have it run in compiled code."
   ]
  },
  {
   "cell_type": "markdown",
   "id": "5814c129-12f0-49ff-a56e-f8b43966d12e",
   "metadata": {},
   "source": [
    "### Dict-like and array-like interfaces\n",
    "\n",
    "The two most important data types for these interfaces are dicts"
   ]
  },
  {
   "cell_type": "code",
   "execution_count": 5,
   "id": "ab7a515b-6f9d-4634-bc63-ace212b66ffa",
   "metadata": {},
   "outputs": [],
   "source": [
    "some_dict = {\"word\": 1, \"another word\": 2, \"some other word\": 3}"
   ]
  },
  {
   "cell_type": "code",
   "execution_count": 6,
   "id": "21a7e3b7-c030-49e0-b3a9-95679d8c49cb",
   "metadata": {},
   "outputs": [
    {
     "data": {
      "text/plain": [
       "3"
      ]
     },
     "execution_count": 6,
     "metadata": {},
     "output_type": "execute_result"
    }
   ],
   "source": [
    "some_dict[\"some other word\"]"
   ]
  },
  {
   "cell_type": "code",
   "execution_count": 7,
   "id": "bcfdbb73-3d93-408a-9125-024aa3778558",
   "metadata": {},
   "outputs": [
    {
     "name": "stdout",
     "output_type": "stream",
     "text": [
      "word 1\n",
      "another word 2\n",
      "some other word 3\n"
     ]
    }
   ],
   "source": [
    "for key in some_dict:\n",
    "    print(key, some_dict[key])"
   ]
  },
  {
   "cell_type": "markdown",
   "id": "3163b300-a8fa-4d28-a6c9-3ffa03542e5f",
   "metadata": {},
   "source": [
    "and arrays"
   ]
  },
  {
   "cell_type": "code",
   "execution_count": 8,
   "id": "c6e5cb87-5011-4f10-828b-d17c34669e0c",
   "metadata": {},
   "outputs": [
    {
     "ename": "ModuleNotFoundError",
     "evalue": "No module named 'numpy'",
     "output_type": "error",
     "traceback": [
      "\u001b[31m---------------------------------------------------------------------------\u001b[39m",
      "\u001b[31mModuleNotFoundError\u001b[39m                       Traceback (most recent call last)",
      "\u001b[36mCell\u001b[39m\u001b[36m \u001b[39m\u001b[32mIn[8]\u001b[39m\u001b[32m, line 1\u001b[39m\n\u001b[32m----> \u001b[39m\u001b[32m1\u001b[39m \u001b[38;5;28;01mimport\u001b[39;00m\u001b[38;5;250m \u001b[39m\u001b[34;01mnumpy\u001b[39;00m\u001b[38;5;250m \u001b[39m\u001b[38;5;28;01mas\u001b[39;00m\u001b[38;5;250m \u001b[39m\u001b[34;01mnp\u001b[39;00m\n\u001b[32m      3\u001b[39m some_array = np.array([\u001b[32m0.0\u001b[39m, \u001b[32m1.1\u001b[39m, \u001b[32m2.2\u001b[39m, \u001b[32m3.3\u001b[39m, \u001b[32m4.4\u001b[39m, \u001b[32m5.5\u001b[39m, \u001b[32m6.6\u001b[39m, \u001b[32m7.7\u001b[39m, \u001b[32m8.8\u001b[39m, \u001b[32m9.9\u001b[39m])\n",
      "\u001b[31mModuleNotFoundError\u001b[39m: No module named 'numpy'"
     ]
    }
   ],
   "source": [
    "import numpy as np\n",
    "\n",
    "some_array = np.array([0.0, 1.1, 2.2, 3.3, 4.4, 5.5, 6.6, 7.7, 8.8, 9.9])"
   ]
  },
  {
   "cell_type": "code",
   "execution_count": 9,
   "id": "0f4001b2-f29b-4457-ad1b-2c1e0e7d1272",
   "metadata": {},
   "outputs": [
    {
     "ename": "NameError",
     "evalue": "name 'some_array' is not defined",
     "output_type": "error",
     "traceback": [
      "\u001b[31m---------------------------------------------------------------------------\u001b[39m",
      "\u001b[31mNameError\u001b[39m                                 Traceback (most recent call last)",
      "\u001b[36mCell\u001b[39m\u001b[36m \u001b[39m\u001b[32mIn[9]\u001b[39m\u001b[32m, line 1\u001b[39m\n\u001b[32m----> \u001b[39m\u001b[32m1\u001b[39m \u001b[43msome_array\u001b[49m[\u001b[32m4\u001b[39m]\n",
      "\u001b[31mNameError\u001b[39m: name 'some_array' is not defined"
     ]
    }
   ],
   "source": [
    "some_array[4]"
   ]
  },
  {
   "cell_type": "code",
   "execution_count": 10,
   "id": "b7e8a50e-2b33-43eb-b5a9-399e7ea30329",
   "metadata": {},
   "outputs": [
    {
     "ename": "NameError",
     "evalue": "name 'some_array' is not defined",
     "output_type": "error",
     "traceback": [
      "\u001b[31m---------------------------------------------------------------------------\u001b[39m",
      "\u001b[31mNameError\u001b[39m                                 Traceback (most recent call last)",
      "\u001b[36mCell\u001b[39m\u001b[36m \u001b[39m\u001b[32mIn[10]\u001b[39m\u001b[32m, line 1\u001b[39m\n\u001b[32m----> \u001b[39m\u001b[32m1\u001b[39m \u001b[38;5;28;01mfor\u001b[39;00m x \u001b[38;5;129;01min\u001b[39;00m \u001b[43msome_array\u001b[49m:\n\u001b[32m      2\u001b[39m     \u001b[38;5;28mprint\u001b[39m(x)\n",
      "\u001b[31mNameError\u001b[39m: name 'some_array' is not defined"
     ]
    }
   ],
   "source": [
    "for x in some_array:\n",
    "    print(x)"
   ]
  },
  {
   "cell_type": "markdown",
   "id": "8a2f9dca-9620-4cd5-80a5-ef55e994a00f",
   "metadata": {},
   "source": [
    "Although these data types are important, what's more important is the *interfaces* to these types. They both represent functions from keys to values:\n",
    "\n",
    "- dicts (usually) map from strings to Python objects,\n",
    "- arrays (always) map from non-negative integers to numerical values.\n",
    "\n",
    "Most of the types we will see in this module also map strings or integers to data, and they use the same syntax as dicts and arrays. If you're familiar with the dict and array interfaces, you usually won't have to look up documentation on dict-like and array-like types unless you're trying to do something special."
   ]
  },
  {
   "cell_type": "markdown",
   "id": "93b65789-4fcd-4671-9e31-1d34b54c745d",
   "metadata": {},
   "source": [
    "### Review of the dict interface\n",
    "\n",
    "For dicts, the things that can go in square brackets (its \"domain,\" as a function) are its `keys`."
   ]
  },
  {
   "cell_type": "code",
   "execution_count": 11,
   "id": "a134cedf-fd9c-4d04-b6dc-1c12623abafd",
   "metadata": {},
   "outputs": [
    {
     "data": {
      "text/plain": [
       "dict_keys(['word', 'another word', 'some other word'])"
      ]
     },
     "execution_count": 11,
     "metadata": {},
     "output_type": "execute_result"
    }
   ],
   "source": [
    "some_dict = {\"word\": 1, \"another word\": 2, \"some other word\": 3}\n",
    "some_dict.keys()"
   ]
  },
  {
   "cell_type": "markdown",
   "id": "e7efe189-2773-4996-9f33-0893c119445b",
   "metadata": {},
   "source": [
    "Nothing other than these keys can be used in square brackets"
   ]
  },
  {
   "cell_type": "code",
   "execution_count": 12,
   "id": "4931f0d3-7e6f-4bd9-9417-6d887e5924aa",
   "metadata": {
    "editable": true,
    "slideshow": {
     "slide_type": ""
    },
    "tags": [
     "raises-exception"
    ]
   },
   "outputs": [
    {
     "ename": "KeyError",
     "evalue": "'something I made up'",
     "output_type": "error",
     "traceback": [
      "\u001b[31m---------------------------------------------------------------------------\u001b[39m",
      "\u001b[31mKeyError\u001b[39m                                  Traceback (most recent call last)",
      "\u001b[36mCell\u001b[39m\u001b[36m \u001b[39m\u001b[32mIn[12]\u001b[39m\u001b[32m, line 1\u001b[39m\n\u001b[32m----> \u001b[39m\u001b[32m1\u001b[39m \u001b[43msome_dict\u001b[49m\u001b[43m[\u001b[49m\u001b[33;43m\"\u001b[39;49m\u001b[33;43msomething I made up\u001b[39;49m\u001b[33;43m\"\u001b[39;49m\u001b[43m]\u001b[49m\n",
      "\u001b[31mKeyError\u001b[39m: 'something I made up'"
     ]
    }
   ],
   "source": [
    "some_dict[\"something I made up\"]"
   ]
  },
  {
   "cell_type": "markdown",
   "id": "513522fe-9142-4642-927a-a0fd7c841d35",
   "metadata": {},
   "source": [
    "unless it has been added to the dict."
   ]
  },
  {
   "cell_type": "code",
   "execution_count": 13,
   "id": "e4fb460d-06a5-4826-97e6-1c5c1db9f556",
   "metadata": {},
   "outputs": [
    {
     "data": {
      "text/plain": [
       "123"
      ]
     },
     "execution_count": 13,
     "metadata": {},
     "output_type": "execute_result"
    }
   ],
   "source": [
    "some_dict[\"something I made up\"] = 123\n",
    "some_dict[\"something I made up\"]"
   ]
  },
  {
   "cell_type": "markdown",
   "id": "1bba0369-80ec-40dd-91df-9040bc23db69",
   "metadata": {},
   "source": [
    "The things that can come out of a dict (its \"range,\" as a function) are its `values`."
   ]
  },
  {
   "cell_type": "code",
   "execution_count": 14,
   "id": "8bc434b5-b4c2-40e0-ba63-cb1236b10a70",
   "metadata": {},
   "outputs": [
    {
     "data": {
      "text/plain": [
       "dict_values([1, 2, 3, 123])"
      ]
     },
     "execution_count": 14,
     "metadata": {},
     "output_type": "execute_result"
    }
   ],
   "source": [
    "some_dict.values()"
   ]
  },
  {
   "cell_type": "markdown",
   "id": "13a9da7b-e977-4aa2-b5ce-507afa38e38d",
   "metadata": {},
   "source": [
    "You can get keys and values as 2-tuples by asking for its `items`."
   ]
  },
  {
   "cell_type": "code",
   "execution_count": 15,
   "id": "223043eb-6ba0-4a52-b711-30c9d423baac",
   "metadata": {},
   "outputs": [
    {
     "data": {
      "text/plain": [
       "dict_items([('word', 1), ('another word', 2), ('some other word', 3), ('something I made up', 123)])"
      ]
     },
     "execution_count": 15,
     "metadata": {},
     "output_type": "execute_result"
    }
   ],
   "source": [
    "some_dict.items()"
   ]
  },
  {
   "cell_type": "code",
   "execution_count": 16,
   "id": "ed5693a9-803e-413b-979f-cd19ce0a1d63",
   "metadata": {
    "editable": true,
    "slideshow": {
     "slide_type": ""
    },
    "tags": []
   },
   "outputs": [
    {
     "name": "stdout",
     "output_type": "stream",
     "text": [
      "word 1\n",
      "another word 2\n",
      "some other word 3\n",
      "something I made up 123\n"
     ]
    }
   ],
   "source": [
    "for key, value in some_dict.items():\n",
    "    print(key, value)"
   ]
  },
  {
   "cell_type": "markdown",
   "id": "7bb77453-8cf1-4493-86ce-b7514ff8eaa8",
   "metadata": {
    "editable": true,
    "slideshow": {
     "slide_type": ""
    },
    "tags": []
   },
   "source": [
    "### Review of the array interface\n",
    "\n",
    "For arrays, the things that can go in square brackets (its \"domain,\" as a function) are integers from zero up to but not including its length."
   ]
  },
  {
   "cell_type": "code",
   "execution_count": null,
   "id": "2e39df8e-1720-47a5-bc7d-983e37a29a0c",
   "metadata": {
    "editable": true,
    "slideshow": {
     "slide_type": ""
    },
    "tags": [
     "raises-exception"
    ]
   },
   "outputs": [],
   "source": [
    "import numpy as np\n",
    "\n",
    "some_array = np.array([0.0, 1.1, 2.2, 3.3, 4.4, 5.5, 6.6, 7.7, 8.8, 9.9])\n",
    "some_array[0]  # okay\n",
    "some_array[1]  # okay\n",
    "some_array[9]  # okay\n",
    "some_array[10]  # not okay"
   ]
  },
  {
   "cell_type": "markdown",
   "id": "0820228d-a654-4439-96b7-175a8ade2cfa",
   "metadata": {
    "editable": true,
    "slideshow": {
     "slide_type": ""
    },
    "tags": []
   },
   "source": [
    "You can get the length of an array (and the number of keys in a dict) with `len`:"
   ]
  },
  {
   "cell_type": "code",
   "execution_count": 18,
   "id": "f7454042-08ac-45cb-81b5-9b8159d3c8de",
   "metadata": {
    "editable": true,
    "slideshow": {
     "slide_type": ""
    },
    "tags": []
   },
   "outputs": [
    {
     "ename": "NameError",
     "evalue": "name 'some_array' is not defined",
     "output_type": "error",
     "traceback": [
      "\u001b[31m---------------------------------------------------------------------------\u001b[39m",
      "\u001b[31mNameError\u001b[39m                                 Traceback (most recent call last)",
      "\u001b[36mCell\u001b[39m\u001b[36m \u001b[39m\u001b[32mIn[18]\u001b[39m\u001b[32m, line 1\u001b[39m\n\u001b[32m----> \u001b[39m\u001b[32m1\u001b[39m \u001b[38;5;28mlen\u001b[39m(\u001b[43msome_array\u001b[49m)\n",
      "\u001b[31mNameError\u001b[39m: name 'some_array' is not defined"
     ]
    }
   ],
   "source": [
    "len(some_array)"
   ]
  },
  {
   "cell_type": "markdown",
   "id": "8488c931-cb92-4c00-8c32-2c32f46660b7",
   "metadata": {
    "editable": true,
    "slideshow": {
     "slide_type": ""
    },
    "tags": []
   },
   "source": [
    "It's important to remember that index `0` corresponds to the first item in the array, `1` to the second, and so on, which is why `len(some_array)` is not a valid index.\n",
    "\n",
    "Negative indexes are allowed, but they count from the end of the list to the beginning. For instance,"
   ]
  },
  {
   "cell_type": "code",
   "execution_count": 19,
   "id": "7896315d-2b99-4af0-b67e-52a508211fb2",
   "metadata": {
    "editable": true,
    "slideshow": {
     "slide_type": ""
    },
    "tags": []
   },
   "outputs": [
    {
     "ename": "NameError",
     "evalue": "name 'some_array' is not defined",
     "output_type": "error",
     "traceback": [
      "\u001b[31m---------------------------------------------------------------------------\u001b[39m",
      "\u001b[31mNameError\u001b[39m                                 Traceback (most recent call last)",
      "\u001b[36mCell\u001b[39m\u001b[36m \u001b[39m\u001b[32mIn[19]\u001b[39m\u001b[32m, line 1\u001b[39m\n\u001b[32m----> \u001b[39m\u001b[32m1\u001b[39m \u001b[43msome_array\u001b[49m[-\u001b[32m1\u001b[39m]\n",
      "\u001b[31mNameError\u001b[39m: name 'some_array' is not defined"
     ]
    }
   ],
   "source": [
    "some_array[-1]"
   ]
  },
  {
   "cell_type": "markdown",
   "id": "9f25a4f3-87ed-4880-aeb7-1efafb880355",
   "metadata": {
    "editable": true,
    "slideshow": {
     "slide_type": ""
    },
    "tags": []
   },
   "source": [
    "returns the last item. **Quick quiz:** which negative value returns the first item, equivalent to `0`?\n",
    "\n",
    "Arrays can also be \"sliced\" by putting a colon (`:`) between the starting and stopping index."
   ]
  },
  {
   "cell_type": "code",
   "execution_count": 20,
   "id": "440bfefb-20b6-41d4-8aa1-ce4427935317",
   "metadata": {
    "editable": true,
    "slideshow": {
     "slide_type": ""
    },
    "tags": []
   },
   "outputs": [
    {
     "ename": "NameError",
     "evalue": "name 'some_array' is not defined",
     "output_type": "error",
     "traceback": [
      "\u001b[31m---------------------------------------------------------------------------\u001b[39m",
      "\u001b[31mNameError\u001b[39m                                 Traceback (most recent call last)",
      "\u001b[36mCell\u001b[39m\u001b[36m \u001b[39m\u001b[32mIn[20]\u001b[39m\u001b[32m, line 1\u001b[39m\n\u001b[32m----> \u001b[39m\u001b[32m1\u001b[39m \u001b[43msome_array\u001b[49m[\u001b[32m2\u001b[39m:\u001b[32m7\u001b[39m]\n",
      "\u001b[31mNameError\u001b[39m: name 'some_array' is not defined"
     ]
    }
   ],
   "source": [
    "some_array[2:7]"
   ]
  },
  {
   "cell_type": "markdown",
   "id": "fd4c82b3-c2ee-4060-8f69-d0dac31b0635",
   "metadata": {
    "editable": true,
    "slideshow": {
     "slide_type": ""
    },
    "tags": []
   },
   "source": [
    "**Quick quiz:** why is `7.7` not included in the output?\n",
    "\n",
    "The above is common to all Python sequences. Arrays, however, can be multidimensional and this allows for more kinds of slicing."
   ]
  },
  {
   "cell_type": "code",
   "execution_count": 21,
   "id": "8a3827dc-2d11-4526-940d-59d85a0f7cee",
   "metadata": {
    "editable": true,
    "slideshow": {
     "slide_type": ""
    },
    "tags": []
   },
   "outputs": [
    {
     "ename": "NameError",
     "evalue": "name 'np' is not defined",
     "output_type": "error",
     "traceback": [
      "\u001b[31m---------------------------------------------------------------------------\u001b[39m",
      "\u001b[31mNameError\u001b[39m                                 Traceback (most recent call last)",
      "\u001b[36mCell\u001b[39m\u001b[36m \u001b[39m\u001b[32mIn[21]\u001b[39m\u001b[32m, line 1\u001b[39m\n\u001b[32m----> \u001b[39m\u001b[32m1\u001b[39m array3d = \u001b[43mnp\u001b[49m.arange(\u001b[32m2\u001b[39m * \u001b[32m3\u001b[39m * \u001b[32m5\u001b[39m).reshape(\u001b[32m2\u001b[39m, \u001b[32m3\u001b[39m, \u001b[32m5\u001b[39m)\n",
      "\u001b[31mNameError\u001b[39m: name 'np' is not defined"
     ]
    }
   ],
   "source": [
    "array3d = np.arange(2 * 3 * 5).reshape(2, 3, 5)"
   ]
  },
  {
   "cell_type": "markdown",
   "id": "859b1bbd-7f25-4422-bdeb-12bb768f7f74",
   "metadata": {
    "editable": true,
    "slideshow": {
     "slide_type": ""
    },
    "tags": []
   },
   "source": [
    "Separating two slices in the square brackets with a comma"
   ]
  },
  {
   "cell_type": "code",
   "execution_count": 22,
   "id": "bc5afb3a-a584-452e-9263-3a9e6d54d9ab",
   "metadata": {
    "editable": true,
    "slideshow": {
     "slide_type": ""
    },
    "tags": []
   },
   "outputs": [
    {
     "ename": "NameError",
     "evalue": "name 'array3d' is not defined",
     "output_type": "error",
     "traceback": [
      "\u001b[31m---------------------------------------------------------------------------\u001b[39m",
      "\u001b[31mNameError\u001b[39m                                 Traceback (most recent call last)",
      "\u001b[36mCell\u001b[39m\u001b[36m \u001b[39m\u001b[32mIn[22]\u001b[39m\u001b[32m, line 1\u001b[39m\n\u001b[32m----> \u001b[39m\u001b[32m1\u001b[39m \u001b[43marray3d\u001b[49m[:, \u001b[32m1\u001b[39m:, \u001b[32m1\u001b[39m:]\n",
      "\u001b[31mNameError\u001b[39m: name 'array3d' is not defined"
     ]
    }
   ],
   "source": [
    "array3d[:, 1:, 1:]"
   ]
  },
  {
   "cell_type": "markdown",
   "id": "7e390062-0a4b-4c4b-8ab3-372962aea221",
   "metadata": {
    "editable": true,
    "slideshow": {
     "slide_type": ""
    },
    "tags": []
   },
   "source": [
    "selects the following:\n",
    "\n",
    "![array3d-highlight1](fig/array3d-highlight1.png)\n",
    "\n",
    "**Quick quiz:** how do you select the following?\n",
    "\n",
    "![array3d-highlight2](fig/array3d-highlight2.png)"
   ]
  },
  {
   "cell_type": "markdown",
   "id": "bfcf9b1d-0ab1-471a-9d64-9a3030c5e78a",
   "metadata": {
    "editable": true,
    "slideshow": {
     "slide_type": ""
    },
    "tags": []
   },
   "source": [
    "### Filtering with booleans and integers: \"cuts\"\n",
    "\n",
    "In addition to integers and slices, arrays can be included in the square brackets.\n",
    "\n",
    "An array of booleans with the same length as the sliced array selects all items that line up with `True`."
   ]
  },
  {
   "cell_type": "code",
   "execution_count": 23,
   "id": "50784b77-d1f3-471e-a277-2c52041463d7",
   "metadata": {
    "editable": true,
    "slideshow": {
     "slide_type": ""
    },
    "tags": []
   },
   "outputs": [
    {
     "ename": "NameError",
     "evalue": "name 'np' is not defined",
     "output_type": "error",
     "traceback": [
      "\u001b[31m---------------------------------------------------------------------------\u001b[39m",
      "\u001b[31mNameError\u001b[39m                                 Traceback (most recent call last)",
      "\u001b[36mCell\u001b[39m\u001b[36m \u001b[39m\u001b[32mIn[23]\u001b[39m\u001b[32m, line 1\u001b[39m\n\u001b[32m----> \u001b[39m\u001b[32m1\u001b[39m some_array = \u001b[43mnp\u001b[49m.array([\u001b[32m0.0\u001b[39m, \u001b[32m1.1\u001b[39m, \u001b[32m2.2\u001b[39m, \u001b[32m3.3\u001b[39m, \u001b[32m4.4\u001b[39m, \u001b[32m5.5\u001b[39m, \u001b[32m6.6\u001b[39m, \u001b[32m7.7\u001b[39m, \u001b[32m8.8\u001b[39m, \u001b[32m9.9\u001b[39m])\n\u001b[32m      2\u001b[39m boolean_array = np.array(\n\u001b[32m      3\u001b[39m     [\u001b[38;5;28;01mTrue\u001b[39;00m, \u001b[38;5;28;01mTrue\u001b[39;00m, \u001b[38;5;28;01mTrue\u001b[39;00m, \u001b[38;5;28;01mTrue\u001b[39;00m, \u001b[38;5;28;01mTrue\u001b[39;00m, \u001b[38;5;28;01mFalse\u001b[39;00m, \u001b[38;5;28;01mTrue\u001b[39;00m, \u001b[38;5;28;01mFalse\u001b[39;00m, \u001b[38;5;28;01mTrue\u001b[39;00m, \u001b[38;5;28;01mFalse\u001b[39;00m]\n\u001b[32m      4\u001b[39m )\n\u001b[32m      6\u001b[39m some_array[boolean_array]\n",
      "\u001b[31mNameError\u001b[39m: name 'np' is not defined"
     ]
    }
   ],
   "source": [
    "some_array = np.array([0.0, 1.1, 2.2, 3.3, 4.4, 5.5, 6.6, 7.7, 8.8, 9.9])\n",
    "boolean_array = np.array(\n",
    "    [True, True, True, True, True, False, True, False, True, False]\n",
    ")\n",
    "\n",
    "some_array[boolean_array]"
   ]
  },
  {
   "cell_type": "markdown",
   "id": "da65a5b6-d7ef-47c2-882f-9849408c129c",
   "metadata": {
    "editable": true,
    "slideshow": {
     "slide_type": ""
    },
    "tags": []
   },
   "source": [
    "An array of integers selects items by index."
   ]
  },
  {
   "cell_type": "code",
   "execution_count": 24,
   "id": "67e096aa-75df-4d77-bcdc-e436c4be0bdc",
   "metadata": {
    "editable": true,
    "slideshow": {
     "slide_type": ""
    },
    "tags": []
   },
   "outputs": [
    {
     "ename": "NameError",
     "evalue": "name 'np' is not defined",
     "output_type": "error",
     "traceback": [
      "\u001b[31m---------------------------------------------------------------------------\u001b[39m",
      "\u001b[31mNameError\u001b[39m                                 Traceback (most recent call last)",
      "\u001b[36mCell\u001b[39m\u001b[36m \u001b[39m\u001b[32mIn[24]\u001b[39m\u001b[32m, line 1\u001b[39m\n\u001b[32m----> \u001b[39m\u001b[32m1\u001b[39m some_array = \u001b[43mnp\u001b[49m.array([\u001b[32m0.0\u001b[39m, \u001b[32m1.1\u001b[39m, \u001b[32m2.2\u001b[39m, \u001b[32m3.3\u001b[39m, \u001b[32m4.4\u001b[39m, \u001b[32m5.5\u001b[39m, \u001b[32m6.6\u001b[39m, \u001b[32m7.7\u001b[39m, \u001b[32m8.8\u001b[39m, \u001b[32m9.9\u001b[39m])\n\u001b[32m      2\u001b[39m integer_array = np.array([\u001b[32m0\u001b[39m, \u001b[32m1\u001b[39m, \u001b[32m2\u001b[39m, \u001b[32m3\u001b[39m, \u001b[32m4\u001b[39m, \u001b[32m6\u001b[39m, \u001b[32m8\u001b[39m])\n\u001b[32m      4\u001b[39m some_array[integer_array]\n",
      "\u001b[31mNameError\u001b[39m: name 'np' is not defined"
     ]
    }
   ],
   "source": [
    "some_array = np.array([0.0, 1.1, 2.2, 3.3, 4.4, 5.5, 6.6, 7.7, 8.8, 9.9])\n",
    "integer_array = np.array([0, 1, 2, 3, 4, 6, 8])\n",
    "\n",
    "some_array[integer_array]"
   ]
  },
  {
   "cell_type": "markdown",
   "id": "abfdcef9-109c-4e35-bcf7-179d2ee41825",
   "metadata": {
    "editable": true,
    "slideshow": {
     "slide_type": ""
    },
    "tags": []
   },
   "source": [
    "Integer-slicing is more general than boolean-slicing because an array of integers can also change the order of the data and repeat items."
   ]
  },
  {
   "cell_type": "code",
   "execution_count": 25,
   "id": "afcac55b-90d0-408e-a93d-a1e786932a38",
   "metadata": {
    "editable": true,
    "slideshow": {
     "slide_type": ""
    },
    "tags": []
   },
   "outputs": [
    {
     "ename": "NameError",
     "evalue": "name 'some_array' is not defined",
     "output_type": "error",
     "traceback": [
      "\u001b[31m---------------------------------------------------------------------------\u001b[39m",
      "\u001b[31mNameError\u001b[39m                                 Traceback (most recent call last)",
      "\u001b[36mCell\u001b[39m\u001b[36m \u001b[39m\u001b[32mIn[25]\u001b[39m\u001b[32m, line 1\u001b[39m\n\u001b[32m----> \u001b[39m\u001b[32m1\u001b[39m \u001b[43msome_array\u001b[49m[np.array([\u001b[32m4\u001b[39m, \u001b[32m2\u001b[39m, \u001b[32m2\u001b[39m, \u001b[32m2\u001b[39m, \u001b[32m9\u001b[39m, \u001b[32m8\u001b[39m, \u001b[32m3\u001b[39m])]\n",
      "\u001b[31mNameError\u001b[39m: name 'some_array' is not defined"
     ]
    }
   ],
   "source": [
    "some_array[np.array([4, 2, 2, 2, 9, 8, 3])]"
   ]
  },
  {
   "cell_type": "markdown",
   "id": "292fa6bf-005b-4869-b68e-217de67d48bc",
   "metadata": {
    "editable": true,
    "slideshow": {
     "slide_type": ""
    },
    "tags": []
   },
   "source": [
    "Both come up in natural contexts. Boolean arrays often come from performing a calculation on all elements of an array that returns boolean values."
   ]
  },
  {
   "cell_type": "code",
   "execution_count": 26,
   "id": "3c9e59f3-052b-4167-b9a2-b670a7aceb6d",
   "metadata": {
    "editable": true,
    "slideshow": {
     "slide_type": ""
    },
    "tags": []
   },
   "outputs": [
    {
     "ename": "NameError",
     "evalue": "name 'some_array' is not defined",
     "output_type": "error",
     "traceback": [
      "\u001b[31m---------------------------------------------------------------------------\u001b[39m",
      "\u001b[31mNameError\u001b[39m                                 Traceback (most recent call last)",
      "\u001b[36mCell\u001b[39m\u001b[36m \u001b[39m\u001b[32mIn[26]\u001b[39m\u001b[32m, line 1\u001b[39m\n\u001b[32m----> \u001b[39m\u001b[32m1\u001b[39m even_valued_items = \u001b[43msome_array\u001b[49m * \u001b[32m10\u001b[39m % \u001b[32m2\u001b[39m == \u001b[32m0\u001b[39m\n\u001b[32m      3\u001b[39m some_array[even_valued_items]\n",
      "\u001b[31mNameError\u001b[39m: name 'some_array' is not defined"
     ]
    }
   ],
   "source": [
    "even_valued_items = some_array * 10 % 2 == 0\n",
    "\n",
    "some_array[even_valued_items]"
   ]
  },
  {
   "cell_type": "markdown",
   "id": "cea2877c-6c0e-432e-a202-d2b0e96e60fb",
   "metadata": {
    "editable": true,
    "slideshow": {
     "slide_type": ""
    },
    "tags": []
   },
   "source": [
    "This is how we'll be computing and applying cuts: expressions like"
   ]
  },
  {
   "cell_type": "code",
   "execution_count": 27,
   "id": "69ce81ca-9242-41aa-8b12-ac3f7b545238",
   "metadata": {
    "editable": true,
    "slideshow": {
     "slide_type": ""
    },
    "tags": []
   },
   "outputs": [
    {
     "ename": "NameError",
     "evalue": "name 'muons' is not defined",
     "output_type": "error",
     "traceback": [
      "\u001b[31m---------------------------------------------------------------------------\u001b[39m",
      "\u001b[31mNameError\u001b[39m                                 Traceback (most recent call last)",
      "\u001b[36mCell\u001b[39m\u001b[36m \u001b[39m\u001b[32mIn[27]\u001b[39m\u001b[32m, line 1\u001b[39m\n\u001b[32m----> \u001b[39m\u001b[32m1\u001b[39m good_muon_cut = (\u001b[43mmuons\u001b[49m.pt > \u001b[32m10\u001b[39m) & (\u001b[38;5;28mabs\u001b[39m(muons.eta) < \u001b[32m2.4\u001b[39m)\n\u001b[32m      3\u001b[39m good_muons = muons[good_muon_cut]\n",
      "\u001b[31mNameError\u001b[39m: name 'muons' is not defined"
     ]
    }
   ],
   "source": [
    "good_muon_cut = (muons.pt > 10) & (abs(muons.eta) < 2.4)\n",
    "\n",
    "good_muons = muons[good_muon_cut]"
   ]
  },
  {
   "cell_type": "markdown",
   "id": "4e071f5d-48c3-4709-90c9-2ec461e162ae",
   "metadata": {
    "editable": true,
    "slideshow": {
     "slide_type": ""
    },
    "tags": []
   },
   "source": [
    "### Logical operators: `&`, `|`, `~`, and parentheses\n",
    "\n",
    "If you're coming from C++, you might expect \"and,\" \"or,\" \"not\" to be `&&`, `||`, `!`.\n",
    "\n",
    "If you're coming from non-array Python, you might expect them to be `and`, `or`, `not`.\n",
    "\n",
    "In array expressions (unfortunately!), we have to use Python's bitwise operators, `&`, `|`, `~`, and ensure that comparisons are surrounded in parentheses. Python's `and`, `or`, `not` are not applied across arrays and bitwise operators have a surprising operator-precedence."
   ]
  },
  {
   "cell_type": "code",
   "execution_count": 28,
   "id": "c4a1bf10-f854-4394-afbe-816e647ada56",
   "metadata": {
    "editable": true,
    "slideshow": {
     "slide_type": ""
    },
    "tags": []
   },
   "outputs": [],
   "source": [
    "x = 0"
   ]
  },
  {
   "cell_type": "code",
   "execution_count": 29,
   "id": "444cea1e-dd74-43b1-a012-8537df317f33",
   "metadata": {
    "editable": true,
    "slideshow": {
     "slide_type": ""
    },
    "tags": []
   },
   "outputs": [
    {
     "data": {
      "text/plain": [
       "False"
      ]
     },
     "execution_count": 29,
     "metadata": {},
     "output_type": "execute_result"
    }
   ],
   "source": [
    "x > -10 & x < 10  # probably not what you expect!"
   ]
  },
  {
   "cell_type": "code",
   "execution_count": 30,
   "id": "de19bbcd-7eba-4eaa-8de2-252aa20fd409",
   "metadata": {
    "editable": true,
    "slideshow": {
     "slide_type": ""
    },
    "tags": []
   },
   "outputs": [
    {
     "data": {
      "text/plain": [
       "True"
      ]
     },
     "execution_count": 30,
     "metadata": {},
     "output_type": "execute_result"
    }
   ],
   "source": [
    "(x > -10) & (x < 10)"
   ]
  },
  {
   "cell_type": "markdown",
   "id": "a52eba88-e752-408c-b207-41b95de31227",
   "metadata": {
    "editable": true,
    "slideshow": {
     "slide_type": ""
    },
    "tags": []
   },
   "source": [
    "![bitwise-operator-parentheses](fig/bitwise-operator-parentheses.png)"
   ]
  },
  {
   "cell_type": "markdown",
   "id": "9389b43a-da0b-4f17-a567-fe1846ed246f",
   "metadata": {
    "editable": true,
    "slideshow": {
     "slide_type": ""
    },
    "tags": []
   },
   "source": [
    "## What is \"array-oriented\" or \"columnar\" processing?\n",
    "\n",
    "Expressions like"
   ]
  },
  {
   "cell_type": "code",
   "execution_count": 31,
   "id": "db6e081e-4783-4e1f-aca7-def3db938d7f",
   "metadata": {
    "editable": true,
    "slideshow": {
     "slide_type": ""
    },
    "tags": []
   },
   "outputs": [
    {
     "ename": "NameError",
     "evalue": "name 'some_array' is not defined",
     "output_type": "error",
     "traceback": [
      "\u001b[31m---------------------------------------------------------------------------\u001b[39m",
      "\u001b[31mNameError\u001b[39m                                 Traceback (most recent call last)",
      "\u001b[36mCell\u001b[39m\u001b[36m \u001b[39m\u001b[32mIn[31]\u001b[39m\u001b[32m, line 1\u001b[39m\n\u001b[32m----> \u001b[39m\u001b[32m1\u001b[39m even_valued_items = \u001b[43msome_array\u001b[49m * \u001b[32m10\u001b[39m % \u001b[32m2\u001b[39m == \u001b[32m0\u001b[39m\n",
      "\u001b[31mNameError\u001b[39m: name 'some_array' is not defined"
     ]
    }
   ],
   "source": [
    "even_valued_items = some_array * 10 % 2 == 0"
   ]
  },
  {
   "cell_type": "markdown",
   "id": "84e777cf-fd50-40e3-9ccb-d64458c500cc",
   "metadata": {
    "editable": true,
    "slideshow": {
     "slide_type": ""
    },
    "tags": []
   },
   "source": [
    "perform the `*`, `%`, and `==` operations on every item of `some_array` and return arrays. Without NumPy, the above would have to be written as"
   ]
  },
  {
   "cell_type": "code",
   "execution_count": 32,
   "id": "d3284016-416e-49dc-9541-17e53a00497a",
   "metadata": {
    "editable": true,
    "slideshow": {
     "slide_type": ""
    },
    "tags": []
   },
   "outputs": [
    {
     "ename": "NameError",
     "evalue": "name 'some_array' is not defined",
     "output_type": "error",
     "traceback": [
      "\u001b[31m---------------------------------------------------------------------------\u001b[39m",
      "\u001b[31mNameError\u001b[39m                                 Traceback (most recent call last)",
      "\u001b[36mCell\u001b[39m\u001b[36m \u001b[39m\u001b[32mIn[32]\u001b[39m\u001b[32m, line 3\u001b[39m\n\u001b[32m      1\u001b[39m even_valued_items = []\n\u001b[32m----> \u001b[39m\u001b[32m3\u001b[39m \u001b[38;5;28;01mfor\u001b[39;00m x \u001b[38;5;129;01min\u001b[39;00m \u001b[43msome_array\u001b[49m:\n\u001b[32m      4\u001b[39m     even_valued_items.append(x * \u001b[32m10\u001b[39m % \u001b[32m2\u001b[39m == \u001b[32m0\u001b[39m)\n",
      "\u001b[31mNameError\u001b[39m: name 'some_array' is not defined"
     ]
    }
   ],
   "source": [
    "even_valued_items = []\n",
    "\n",
    "for x in some_array:\n",
    "    even_valued_items.append(x * 10 % 2 == 0)"
   ]
  },
  {
   "cell_type": "markdown",
   "id": "b3acb9ad-b001-4d20-a470-c2d93ba98aff",
   "metadata": {
    "editable": true,
    "slideshow": {
     "slide_type": ""
    },
    "tags": []
   },
   "source": [
    "This is more cumbersome when you want to apply a mathematical formula to every item of a collection, but it is also considerably slower. Every step in a Python `for` loop performs sanity checks that are unnecessary for numerical values with uniform type, checks that would happen at compile-time in a compiled library. NumPy *is* a compiled library; its `*`, `%`, and `==` operators, as well as many other functions, are performed in fast, compiled loops.\n",
    "\n",
    "This is how we get expressiveness and speed. Languages with operators that apply array at a time, rather than one scalar value at a time, are called \"array-oriented\" or \"columnar\" (referring to, for instance, Pandas DataFrame columns).\n",
    "\n",
    "Quite a few interactive, data-analysis languages are array-oriented, deriving from the original APL. \"Array-oriented\" is a programming paradigm in the same sense as \"functional\" or \"object-oriented.\"\n",
    "\n",
    "![apl-timeline](fig/apl-timeline.png)"
   ]
  },
  {
   "cell_type": "markdown",
   "id": "33bf389f-b61b-4d6c-b9f5-7737cd9da366",
   "metadata": {
    "editable": true,
    "slideshow": {
     "slide_type": ""
    },
    "tags": []
   },
   "source": [
    "## What is a \"software ecosystem\"?\n",
    "\n",
    "Some programming environments, like Mathematica, Emacs, and ROOT, attempt to provide you with everything you need in one package. There's only one thing to install and components within the framework should work well together because they were developed together. However, it can be hard to use the framework with other, unrelated software packages.\n",
    "\n",
    "Ecosystems, like UNIX, iOS App Store, and Python, consist of many small software packages that each do one thing and know how to communicate with other packages through conventions and protocols. There's usually a centralized installation mechanism, and it is the user's (your) responsibility to piece together what you need. However, the set of possibilities is open-ended and grows as needs develop.\n",
    "\n",
    "In mainstream Python, this means that\n",
    "\n",
    "- NumPy *only* deals with arrays,\n",
    "- Pandas *only* deals with tables,\n",
    "- Matplotlib *only* plots,\n",
    "- Jupyter *only* provides a notebook interface,\n",
    "- Scikit-Learn *only* does machine learning,\n",
    "- h5py *only* interfaces with HDF5 files,\n",
    "- etc.\n",
    "\n",
    "Python packages for high-energy physics are being developed with a similar model:\n",
    "\n",
    "- Uproot *only* reads and writes ROOT files,\n",
    "- Awkward Array *only* deals with arrays of irregular types,\n",
    "- hist *only* deals with histograms,\n",
    "- iminuit *only* optimizes,\n",
    "- zfit *only* fits,\n",
    "- Particle *only* provides PDG-style data,\n",
    "- etc.\n",
    "\n",
    "To make things easier to find, they're cataloged under a common name at [scikit-hep.org](https://scikit-hep.org).\n",
    "\n",
    "![scikit-hep-logos](fig/scikit-hep-logos.png)"
   ]
  },
  {
   "cell_type": "markdown",
   "id": "db52edd2-a00a-49e2-ac7a-cc3f7dba4530",
   "metadata": {
    "editable": true,
    "slideshow": {
     "slide_type": ""
    },
    "tags": []
   },
   "source": [
    ":::{hint} Keypoints\n",
    " - Be familiar with the syntax of Python dicts, NumPy arrays, slicing rules, and bitwise logic operators.\n",
    " - Large-scale computations in Python tend to be performed one array at a time, rather than one scalar operation at a time.\n",
    " - You, as a user, will likely be gluing together many packages in each data analysis.\n",
    ":::\n"
   ]
  }
 ],
 "metadata": {
  "kernelspec": {
   "display_name": "Python 3 (ipykernel)",
   "language": "python",
   "name": "python3"
  },
  "language_info": {
   "codemirror_mode": {
    "name": "ipython",
    "version": 3
   },
   "file_extension": ".py",
   "mimetype": "text/x-python",
   "name": "python",
   "nbconvert_exporter": "python",
   "pygments_lexer": "ipython3",
   "version": "3.13.5"
  }
 },
 "nbformat": 4,
 "nbformat_minor": 5
}
