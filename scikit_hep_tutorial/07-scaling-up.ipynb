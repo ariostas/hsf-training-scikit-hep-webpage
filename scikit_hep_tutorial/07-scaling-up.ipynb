{
 "cells": [
  {
   "cell_type": "markdown",
   "id": "5a6b9d61-8bf7-4151-8a2e-d51c9cc36c88",
   "metadata": {
    "editable": true,
    "slideshow": {
     "slide_type": ""
    },
    "tags": []
   },
   "source": [
    "# Scaling up"
   ]
  },
  {
   "cell_type": "code",
   "execution_count": null,
   "id": "1fe5d542-40eb-4696-8831-1128bc7bf4cf",
   "metadata": {
    "editable": true,
    "slideshow": {
     "slide_type": ""
    },
    "tags": []
   },
   "outputs": [],
   "source": []
  }
 ],
 "metadata": {
  "kernelspec": {
   "display_name": "Python 3 (ipykernel)",
   "language": "python",
   "name": "python3"
  },
  "language_info": {
   "codemirror_mode": {
    "name": "ipython",
    "version": 3
   },
   "file_extension": ".py",
   "mimetype": "text/x-python",
   "name": "python",
   "nbconvert_exporter": "python",
   "pygments_lexer": "ipython3",
   "version": "3.13.5"
  }
 },
 "nbformat": 4,
 "nbformat_minor": 5
}
